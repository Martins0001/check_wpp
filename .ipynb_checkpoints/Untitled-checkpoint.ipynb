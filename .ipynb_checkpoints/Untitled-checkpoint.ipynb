{
 "cells": [
  {
   "cell_type": "code",
   "execution_count": 17,
   "id": "fc693e00",
   "metadata": {},
   "outputs": [
    {
     "ename": "ImportError",
     "evalue": "cannot import name 'ChromeOptions' from 'selenium.webdriver.chrome.options' (C:\\Users\\lucas.souza\\AppData\\Local\\anaconda3\\Lib\\site-packages\\selenium\\webdriver\\chrome\\options.py)",
     "output_type": "error",
     "traceback": [
      "\u001b[1;31m---------------------------------------------------------------------------\u001b[0m",
      "\u001b[1;31mImportError\u001b[0m                               Traceback (most recent call last)",
      "Cell \u001b[1;32mIn[17], line 2\u001b[0m\n\u001b[0;32m      1\u001b[0m \u001b[38;5;28;01mfrom\u001b[39;00m \u001b[38;5;21;01mselenium\u001b[39;00m \u001b[38;5;28;01mimport\u001b[39;00m webdriver\n\u001b[1;32m----> 2\u001b[0m \u001b[38;5;28;01mfrom\u001b[39;00m \u001b[38;5;21;01mselenium\u001b[39;00m\u001b[38;5;21;01m.\u001b[39;00m\u001b[38;5;21;01mwebdriver\u001b[39;00m\u001b[38;5;21;01m.\u001b[39;00m\u001b[38;5;21;01mchrome\u001b[39;00m\u001b[38;5;21;01m.\u001b[39;00m\u001b[38;5;21;01moptions\u001b[39;00m \u001b[38;5;28;01mimport\u001b[39;00m ChromeOptions\n\u001b[0;32m      3\u001b[0m \u001b[38;5;28;01mfrom\u001b[39;00m \u001b[38;5;21;01mselenium\u001b[39;00m\u001b[38;5;21;01m.\u001b[39;00m\u001b[38;5;21;01mwebdriver\u001b[39;00m\u001b[38;5;21;01m.\u001b[39;00m\u001b[38;5;21;01msupport\u001b[39;00m \u001b[38;5;28;01mimport\u001b[39;00m expected_conditions \u001b[38;5;28;01mas\u001b[39;00m EC\n\u001b[0;32m      4\u001b[0m \u001b[38;5;28;01mfrom\u001b[39;00m \u001b[38;5;21;01mselenium\u001b[39;00m\u001b[38;5;21;01m.\u001b[39;00m\u001b[38;5;21;01mcommon\u001b[39;00m\u001b[38;5;21;01m.\u001b[39;00m\u001b[38;5;21;01mexceptions\u001b[39;00m \u001b[38;5;28;01mimport\u001b[39;00m UnexpectedAlertPresentException, TimeoutException\n",
      "\u001b[1;31mImportError\u001b[0m: cannot import name 'ChromeOptions' from 'selenium.webdriver.chrome.options' (C:\\Users\\lucas.souza\\AppData\\Local\\anaconda3\\Lib\\site-packages\\selenium\\webdriver\\chrome\\options.py)"
     ]
    }
   ],
   "source": [
    "from selenium import webdriver\n",
    "from selenium.webdriver.chrome.options import ChromeOptions\n",
    "from selenium.webdriver.support import expected_conditions as EC\n",
    "from selenium.common.exceptions import UnexpectedAlertPresentException, TimeoutException\n",
    "\n",
    "options = ChromeOptions()\n",
    "options.add_argument(\"user-data-dir=C:/Users/lucas.souza/AppData/Local/Google/Chrome/User Data\")\n",
    "navegador = webdriver.Chrome(options=options)\n"
   ]
  },
  {
   "cell_type": "code",
   "execution_count": 18,
   "id": "03af3f7c",
   "metadata": {},
   "outputs": [
    {
     "name": "stdout",
     "output_type": "stream",
     "text": [
      "Requirement already satisfied: selenium in c:\\users\\lucas.souza\\appdata\\local\\anaconda3\\lib\\site-packages (4.14.0)\n",
      "Collecting selenium\n",
      "  Downloading selenium-4.18.1-py3-none-any.whl (10.0 MB)\n",
      "                                              0.0/10.0 MB ? eta -:--:--\n",
      "                                             0.0/10.0 MB 991.0 kB/s eta 0:00:11\n",
      "                                              0.1/10.0 MB 1.7 MB/s eta 0:00:06\n",
      "     -                                        0.3/10.0 MB 2.0 MB/s eta 0:00:05\n",
      "     -                                        0.4/10.0 MB 2.3 MB/s eta 0:00:05\n",
      "     --                                       0.6/10.0 MB 2.8 MB/s eta 0:00:04\n",
      "     ----                                     1.1/10.0 MB 4.0 MB/s eta 0:00:03\n",
      "     ------                                   1.5/10.0 MB 4.9 MB/s eta 0:00:02\n",
      "     ------                                   1.5/10.0 MB 4.9 MB/s eta 0:00:02\n",
      "     ------                                   1.5/10.0 MB 4.9 MB/s eta 0:00:02\n",
      "     ------                                   1.6/10.0 MB 3.5 MB/s eta 0:00:03\n",
      "     -----------                              2.8/10.0 MB 5.9 MB/s eta 0:00:02\n",
      "     -----------------                        4.4/10.0 MB 7.9 MB/s eta 0:00:01\n",
      "     -----------------                        4.5/10.0 MB 8.0 MB/s eta 0:00:01\n",
      "     ---------------------                    5.3/10.0 MB 8.2 MB/s eta 0:00:01\n",
      "     -----------------------                  5.8/10.0 MB 8.4 MB/s eta 0:00:01\n",
      "     ------------------------                 6.2/10.0 MB 8.4 MB/s eta 0:00:01\n",
      "     --------------------------               6.7/10.0 MB 8.6 MB/s eta 0:00:01\n",
      "     -----------------------------            7.3/10.0 MB 8.8 MB/s eta 0:00:01\n",
      "     -------------------------------          7.8/10.0 MB 8.9 MB/s eta 0:00:01\n",
      "     ---------------------------------        8.3/10.0 MB 9.0 MB/s eta 0:00:01\n",
      "     -----------------------------------      8.8/10.0 MB 9.1 MB/s eta 0:00:01\n",
      "     -------------------------------------    9.4/10.0 MB 9.3 MB/s eta 0:00:01\n",
      "     ---------------------------------------  9.9/10.0 MB 9.3 MB/s eta 0:00:01\n",
      "     ---------------------------------------  10.0/10.0 MB 9.4 MB/s eta 0:00:01\n",
      "     ---------------------------------------  10.0/10.0 MB 9.4 MB/s eta 0:00:01\n",
      "     ---------------------------------------  10.0/10.0 MB 9.4 MB/s eta 0:00:01\n",
      "     ---------------------------------------- 10.0/10.0 MB 8.2 MB/s eta 0:00:00\n",
      "Requirement already satisfied: urllib3[socks]<3,>=1.26 in c:\\users\\lucas.souza\\appdata\\local\\anaconda3\\lib\\site-packages (from selenium) (1.26.16)\n",
      "Requirement already satisfied: trio~=0.17 in c:\\users\\lucas.souza\\appdata\\local\\anaconda3\\lib\\site-packages (from selenium) (0.22.2)\n",
      "Requirement already satisfied: trio-websocket~=0.9 in c:\\users\\lucas.souza\\appdata\\local\\anaconda3\\lib\\site-packages (from selenium) (0.11.1)\n",
      "Requirement already satisfied: certifi>=2021.10.8 in c:\\users\\lucas.souza\\appdata\\local\\anaconda3\\lib\\site-packages (from selenium) (2023.5.7)\n",
      "Collecting typing_extensions>=4.9.0 (from selenium)\n",
      "  Downloading typing_extensions-4.9.0-py3-none-any.whl (32 kB)\n",
      "Requirement already satisfied: attrs>=20.1.0 in c:\\users\\lucas.souza\\appdata\\local\\anaconda3\\lib\\site-packages (from trio~=0.17->selenium) (22.1.0)\n",
      "Requirement already satisfied: sortedcontainers in c:\\users\\lucas.souza\\appdata\\local\\anaconda3\\lib\\site-packages (from trio~=0.17->selenium) (2.4.0)\n",
      "Requirement already satisfied: idna in c:\\users\\lucas.souza\\appdata\\local\\anaconda3\\lib\\site-packages (from trio~=0.17->selenium) (3.4)\n",
      "Requirement already satisfied: outcome in c:\\users\\lucas.souza\\appdata\\local\\anaconda3\\lib\\site-packages (from trio~=0.17->selenium) (1.3.0)\n",
      "Requirement already satisfied: sniffio in c:\\users\\lucas.souza\\appdata\\local\\anaconda3\\lib\\site-packages (from trio~=0.17->selenium) (1.2.0)\n",
      "Requirement already satisfied: cffi>=1.14 in c:\\users\\lucas.souza\\appdata\\local\\anaconda3\\lib\\site-packages (from trio~=0.17->selenium) (1.15.1)\n",
      "Requirement already satisfied: wsproto>=0.14 in c:\\users\\lucas.souza\\appdata\\local\\anaconda3\\lib\\site-packages (from trio-websocket~=0.9->selenium) (1.2.0)\n",
      "Requirement already satisfied: PySocks!=1.5.7,<2.0,>=1.5.6 in c:\\users\\lucas.souza\\appdata\\local\\anaconda3\\lib\\site-packages (from urllib3[socks]<3,>=1.26->selenium) (1.7.1)\n",
      "Requirement already satisfied: pycparser in c:\\users\\lucas.souza\\appdata\\local\\anaconda3\\lib\\site-packages (from cffi>=1.14->trio~=0.17->selenium) (2.21)\n",
      "Requirement already satisfied: h11<1,>=0.9.0 in c:\\users\\lucas.souza\\appdata\\local\\anaconda3\\lib\\site-packages (from wsproto>=0.14->trio-websocket~=0.9->selenium) (0.14.0)\n",
      "Installing collected packages: typing_extensions, selenium\n",
      "  Attempting uninstall: typing_extensions\n",
      "    Found existing installation: typing_extensions 4.6.3\n",
      "    Uninstalling typing_extensions-4.6.3:\n",
      "      Successfully uninstalled typing_extensions-4.6.3\n",
      "  Attempting uninstall: selenium\n",
      "    Found existing installation: selenium 4.14.0\n",
      "    Uninstalling selenium-4.14.0:\n",
      "      Successfully uninstalled selenium-4.14.0\n",
      "Successfully installed selenium-4.18.1 typing_extensions-4.9.0\n",
      "Note: you may need to restart the kernel to use updated packages.\n"
     ]
    }
   ],
   "source": [
    "pip install --upgrade selenium\n"
   ]
  },
  {
   "cell_type": "code",
   "execution_count": null,
   "id": "79915ad1",
   "metadata": {},
   "outputs": [],
   "source": []
  }
 ],
 "metadata": {
  "kernelspec": {
   "display_name": "Python 3 (ipykernel)",
   "language": "python",
   "name": "python3"
  },
  "language_info": {
   "codemirror_mode": {
    "name": "ipython",
    "version": 3
   },
   "file_extension": ".py",
   "mimetype": "text/x-python",
   "name": "python",
   "nbconvert_exporter": "python",
   "pygments_lexer": "ipython3",
   "version": "3.11.3"
  }
 },
 "nbformat": 4,
 "nbformat_minor": 5
}
